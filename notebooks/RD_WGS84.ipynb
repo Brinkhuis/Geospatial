{
 "cells": [
  {
   "cell_type": "markdown",
   "metadata": {},
   "source": [
    "# RD coördinaten omzetten naar WGS84 coördinaten"
   ]
  },
  {
   "cell_type": "code",
   "execution_count": 1,
   "metadata": {},
   "outputs": [
    {
     "name": "stdout",
     "output_type": "stream",
     "text": [
      "python 3.6.6\n",
      "pyproj 1.9.5.1\n",
      "folium 0.7.0\n"
     ]
    }
   ],
   "source": [
    "import sys\n",
    "print(f'python {sys.version_info.major}.{sys.version_info.minor}.{sys.version_info.micro}')\n",
    "\n",
    "import pyproj\n",
    "print(f'pyproj {pyproj.__version__}')\n",
    "      \n",
    "import folium\n",
    "print(f'folium {folium.__version__}')"
   ]
  },
  {
   "cell_type": "markdown",
   "metadata": {},
   "source": [
    "## 1. PyProj"
   ]
  },
  {
   "cell_type": "code",
   "execution_count": 2,
   "metadata": {},
   "outputs": [],
   "source": [
    "# RD coördinaten Onze Lieve Vrouwetoren\n",
    "x, y = 155000, 463000"
   ]
  },
  {
   "cell_type": "code",
   "execution_count": 3,
   "metadata": {},
   "outputs": [],
   "source": [
    "# Rijkdriehoek (RD)¶\n",
    "rd = pyproj.Proj(init='epsg:28992') # http://epsg.io/28992"
   ]
  },
  {
   "cell_type": "code",
   "execution_count": 4,
   "metadata": {},
   "outputs": [],
   "source": [
    "# World Geodetic System 1984, used in GPS (WGS84)¶\n",
    "wgs84 = pyproj.Proj(init='epsg:4326') # http://epsg.io/4326"
   ]
  },
  {
   "cell_type": "code",
   "execution_count": 5,
   "metadata": {},
   "outputs": [
    {
     "name": "stdout",
     "output_type": "stream",
     "text": [
      "5.3872035087259045 52.15517230115187\n"
     ]
    }
   ],
   "source": [
    "# Transformeer projectie\n",
    "wgs84_x, wgs84_y = pyproj.transform(rd, wgs84, x, y)\n",
    "print(wgs84_x, wgs84_y)"
   ]
  },
  {
   "cell_type": "code",
   "execution_count": 6,
   "metadata": {},
   "outputs": [
    {
     "data": {
      "text/html": [
       "<div style=\"width:100%;\"><div style=\"position:relative;width:100%;height:0;padding-bottom:60%;\"><iframe src=\"data:text/html;charset=utf-8;base64,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\" style=\"position:absolute;width:100%;height:100%;left:0;top:0;border:none !important;\" allowfullscreen webkitallowfullscreen mozallowfullscreen></iframe></div></div>"
      ],
      "text/plain": [
       "<folium.folium.Map at 0x1da151473c8>"
      ]
     },
     "metadata": {},
     "output_type": "display_data"
    }
   ],
   "source": [
    "# Toon kaart\n",
    "m = folium.Map(location = (wgs84_y, wgs84_x), zoom_start = 20)\n",
    "folium.Marker(location = (wgs84_y, wgs84_x),\n",
    "              popup = f'<b>Onze Lieve Vrouwetoren</b><br>x = {wgs84_x}<br>y = {wgs84_y}').add_to(m)\n",
    "display(m)"
   ]
  },
  {
   "cell_type": "markdown",
   "metadata": {},
   "source": [
    "## 2. RDWGSConverter"
   ]
  },
  {
   "cell_type": "code",
   "execution_count": 7,
   "metadata": {},
   "outputs": [],
   "source": [
    "class RDWGSConverter:\n",
    "    X0 = 155000\n",
    "    Y0 = 463000\n",
    "    phi0 = 52.15517440\n",
    "    lam0 = 5.38720621\n",
    "\n",
    "    def fromRdToWgs(self, coords):\n",
    "\n",
    "        Kp = [0, 2, 0, 2, 0, 2, 1, 4, 2, 4, 1]\n",
    "        Kq = [1, 0, 2, 1, 3, 2, 0, 0, 3, 1, 1]\n",
    "        Kpq = [3235.65389, -32.58297, -0.24750, -0.84978, -0.06550, -0.01709, -0.00738, 0.00530, -0.00039, 0.00033, -0.00012]\n",
    "\n",
    "        Lp = [1, 1, 1, 3, 1, 3, 0, 3, 1, 0, 2, 5]\n",
    "        Lq = [0, 1, 2, 0, 3, 1, 1, 2, 4, 2, 0, 0]\n",
    "        Lpq = [5260.52916, 105.94684, 2.45656, -0.81885, 0.05594, -0.05607, 0.01199, -0.00256, 0.00128, 0.00022, -0.00022, 0.00026]\n",
    "\n",
    "        dX = 1E-5 * (coords[0] - self.X0)\n",
    "        dY = 1E-5 * (coords[1] - self.Y0)\n",
    "\n",
    "        phi = 0\n",
    "        lam = 0\n",
    "\n",
    "        for k in range(len(Kpq)):\n",
    "            phi = phi + (Kpq[k] * dX ** Kp[k] * dY ** Kq[k])\n",
    "        phi = self.phi0 + phi / 3600\n",
    "\n",
    "        for l in range(len(Lpq)):\n",
    "            lam = lam + (Lpq[l] * dX ** Lp[l] * dY ** Lq[l])\n",
    "        lam = self.lam0 + lam / 3600\n",
    "\n",
    "        return [phi, lam]\n",
    "\n",
    "    def fromWgsToRd(self, coords):\n",
    "\n",
    "        Rp = [0, 1, 2, 0, 1, 3, 1, 0, 2]\n",
    "        Rq = [1, 1, 1, 3, 0, 1, 3, 2, 3]\n",
    "        Rpq = [190094.945, -11832.228, -114.221, -32.391, -0.705, -2.340, -0.608, -0.008, 0.148]\n",
    "\n",
    "        Sp = [1, 0, 2, 1, 3, 0, 2, 1, 0, 1]\n",
    "        Sq = [0, 2, 0, 2, 0, 1, 2, 1, 4, 4]\n",
    "        Spq = [309056.544, 3638.893, 73.077, -157.984, 59.788, 0.433, -6.439, -0.032, 0.092, -0.054]\n",
    "\n",
    "        dPhi = 0.36 * (coords[0] - self.phi0)\n",
    "        dLam = 0.36 * (coords[1] - self.lam0)\n",
    "\n",
    "        X = 0\n",
    "        Y = 0\n",
    "\n",
    "        for r in range(len(Rpq)):\n",
    "            X = X + (Rpq[r] * dPhi ** Rp[r] * dLam ** Rq[r])\n",
    "        X = self.X0 + X\n",
    "\n",
    "        for s in range(len(Spq)):\n",
    "            Y = Y + (Spq[s] * dPhi ** Sp[s] * dLam ** Sq[s])\n",
    "        Y = self.Y0 + Y\n",
    "\n",
    "        return [X, Y]"
   ]
  },
  {
   "cell_type": "code",
   "execution_count": 8,
   "metadata": {},
   "outputs": [],
   "source": [
    "# RD coördinaten Onze Lieve Vrouwetoren\n",
    "x, y = 155000, 463000"
   ]
  },
  {
   "cell_type": "code",
   "execution_count": 9,
   "metadata": {},
   "outputs": [],
   "source": [
    "# Converter\n",
    "converter = RDWGSConverter()"
   ]
  },
  {
   "cell_type": "code",
   "execution_count": 10,
   "metadata": {},
   "outputs": [
    {
     "name": "stdout",
     "output_type": "stream",
     "text": [
      "[52.1551744, 5.38720621] [155000.0, 463000.0]\n"
     ]
    }
   ],
   "source": [
    "# Converteer\n",
    "wgsCoords = converter.fromRdToWgs([x, y]) # van RD naar WGS84\n",
    "rdCoords = converter.fromWgsToRd(wgsCoords) # van WGS84 naar RD\n",
    "print(wgsCoords, rdCoords )"
   ]
  },
  {
   "cell_type": "code",
   "execution_count": 11,
   "metadata": {},
   "outputs": [
    {
     "data": {
      "text/html": [
       "<div style=\"width:100%;\"><div style=\"position:relative;width:100%;height:0;padding-bottom:60%;\"><iframe src=\"data:text/html;charset=utf-8;base64,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\" style=\"position:absolute;width:100%;height:100%;left:0;top:0;border:none !important;\" allowfullscreen webkitallowfullscreen mozallowfullscreen></iframe></div></div>"
      ],
      "text/plain": [
       "<folium.folium.Map at 0x1da15118ac8>"
      ]
     },
     "metadata": {},
     "output_type": "display_data"
    }
   ],
   "source": [
    "# Toon kaart\n",
    "m = folium.Map(location = wgsCoords, zoom_start = 20)\n",
    "folium.Marker(location = wgsCoords,\n",
    "              popup = f'<b>Onze Lieve Vrouwetoren</b><br>x = {wgsCoords[1]}<br>y = {wgsCoords[0]}').add_to(m)\n",
    "display(m)"
   ]
  },
  {
   "cell_type": "markdown",
   "metadata": {},
   "source": [
    "## 3. Vergelijking"
   ]
  },
  {
   "cell_type": "code",
   "execution_count": 12,
   "metadata": {},
   "outputs": [],
   "source": [
    "# RD coördinaten\n",
    "coords = {'Martinitoren': (233883.131, 582065.167),\n",
    "          'Onze Lieve Vrouwetoren': (155000, 463000),\n",
    "          'Westertoren': (120700.723, 487525.501)}"
   ]
  },
  {
   "cell_type": "code",
   "execution_count": 13,
   "metadata": {},
   "outputs": [
    {
     "name": "stdout",
     "output_type": "stream",
     "text": [
      "Martinitoren            x = 6.48928  y = 50.09043\n",
      "Onze Lieve Vrouwetoren  x = 5.38719  y = 49.38677\n",
      "Westertoren             x = 4.91801  y = 49.07756\n"
     ]
    }
   ],
   "source": [
    "# PyProj\n",
    "for toren in coords.keys():\n",
    "    x, y = pyproj.transform(rd, wgs84, coords[toren][0], coords[toren][0])\n",
    "    print('{:24}x = {:7.5f}  y = {:8.5f}'.format(toren, x, y))"
   ]
  },
  {
   "cell_type": "code",
   "execution_count": 14,
   "metadata": {},
   "outputs": [
    {
     "name": "stdout",
     "output_type": "stream",
     "text": [
      "Martinitoren            x = 6.48929  y = 50.09044\n",
      "Onze Lieve Vrouwetoren  x = 5.38720  y = 49.38677\n",
      "Westertoren             x = 4.91801  y = 49.07756\n"
     ]
    }
   ],
   "source": [
    "# RDWGSConverter\n",
    "for toren in coords.keys():\n",
    "    wgsCoords = converter.fromRdToWgs([coords[toren][0], coords[toren][0]])\n",
    "    print('{:24}x = {:7.5f}  y = {:8.5f}'.format(toren, wgsCoords[1], wgsCoords[0]))"
   ]
  },
  {
   "cell_type": "markdown",
   "metadata": {},
   "source": [
    "##### bronnen"
   ]
  },
  {
   "cell_type": "markdown",
   "metadata": {},
   "source": [
    "* RDWGSConverter: [https://thomasv.nl/2014/03/rd-naar-gps](https://thomasv.nl/2014/03/rd-naar-gps).  \n",
    "Typo in de class `RDWGSConverter` gecorrigeerd: Kpq -0.0039 moet zijn -0.00039 (-3.9E-4 in class `Converter` conform transformatieformules).\n",
    "* Transformatieformules: [https://media.thomasv.nl/2015/07/Transformatieformules.pdf](https://media.thomasv.nl/2015/07/Transformatieformules.pdf)"
   ]
  }
 ],
 "metadata": {
  "kernelspec": {
   "display_name": "Python 3",
   "language": "python",
   "name": "python3"
  },
  "language_info": {
   "codemirror_mode": {
    "name": "ipython",
    "version": 3
   },
   "file_extension": ".py",
   "mimetype": "text/x-python",
   "name": "python",
   "nbconvert_exporter": "python",
   "pygments_lexer": "ipython3",
   "version": "3.6.6"
  }
 },
 "nbformat": 4,
 "nbformat_minor": 2
}
