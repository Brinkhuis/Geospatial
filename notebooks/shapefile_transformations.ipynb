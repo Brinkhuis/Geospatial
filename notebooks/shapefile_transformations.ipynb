{
 "cells": [
  {
   "cell_type": "markdown",
   "metadata": {},
   "source": [
    "\n",
    "# Shapefile transformations"
   ]
  },
  {
   "cell_type": "markdown",
   "metadata": {},
   "source": [
    "## 1. Import modules"
   ]
  },
  {
   "cell_type": "code",
   "execution_count": 1,
   "metadata": {},
   "outputs": [
    {
     "name": "stdout",
     "output_type": "stream",
     "text": [
      "python     3.6.6\n",
      "pandas     0.23.4\n",
      "geopandas  0.3.0\n",
      "matplotlib 2.2.2\n",
      "shapely    1.6.4.post1\n"
     ]
    }
   ],
   "source": [
    "import sys\n",
    "print(f'python     {sys.version_info.major}.{sys.version_info.minor}.{sys.version_info.micro}')\n",
    "\n",
    "import pandas as pd\n",
    "print(f'pandas     {pd.__version__}')\n",
    "\n",
    "import geopandas as gpd\n",
    "print(f'geopandas  {gpd.__version__}')\n",
    "\n",
    "import matplotlib.pyplot as plt\n",
    "print(f'matplotlib {sys.modules[\"matplotlib\"].__version__}')\n",
    "\n",
    "from shapely.geometry import Polygon, MultiPolygon\n",
    "print(f'shapely    {sys.modules[\"shapely\"].__version__}')"
   ]
  },
  {
   "cell_type": "markdown",
   "metadata": {},
   "source": [
    "## 2. Transformation functions"
   ]
  },
  {
   "cell_type": "markdown",
   "metadata": {},
   "source": [
    "### 2.1 Transform to csv"
   ]
  },
  {
   "cell_type": "code",
   "execution_count": 2,
   "metadata": {},
   "outputs": [],
   "source": [
    "def to_csv(gdf, column, filename, geometry='geometry'):\n",
    "    df = pd.DataFrame()\n",
    "    for name in gdf[column].unique():\n",
    "        p = gdf.loc[gdf[column] == name, 'geometry'].values[0]  # polygon\n",
    "        if isinstance(p, Polygon):\n",
    "            p = MultiPolygon([p]) # transform Polygon to MultiPolygon\n",
    "        for i in range(len(p)):\n",
    "            xcoord = p[i].exterior.coords.xy[0] # xcoord\n",
    "            ycoord = p[i].exterior.coords.xy[1] # ycoord\n",
    "            part = i + 1 # polygon number in multipolygon\n",
    "            order = range(1, len(xcoord)+1) # order of polygon coordinates\n",
    "            area = pd.DataFrame({'name': name, 'part': part, 'order': order, 'xcoord': xcoord, 'ycoord': ycoord})\n",
    "            df = df.append(area, ignore_index=True)\n",
    "    df.sort_values(by=['name', 'part', 'order'], inplace=True)\n",
    "    df.reset_index(drop=True, inplace=True)\n",
    "    df.to_csv(filename, index=False)\n",
    "    print(f'{df.shape[0]} coordinates saved to file {filename}')"
   ]
  },
  {
   "cell_type": "markdown",
   "metadata": {},
   "source": [
    "### 2.2 Transform to shapefile"
   ]
  },
  {
   "cell_type": "code",
   "execution_count": 3,
   "metadata": {},
   "outputs": [],
   "source": [
    "def to_shp(df, shapefile, column='name', part='part', order='order', xcoord='xcoord', ycoord='ycoord'):\n",
    "    \n",
    "    \"\"\"\n",
    "    Function to save a DataFrame (from a csv file) with geospacial data to a shapefile.\n",
    "    \n",
    "    df        : the DataFrame to save to a shapefile\n",
    "    shapefile : name of the shapefile to create (use extension .shp)\n",
    "    column    : the name of the DataFrame column that contains the area names\n",
    "    part      : the name of the DataFrame column that contains the order number of a polygon (within a multipolygon)\n",
    "    order     : the name of the DataFrame column that contains the order number of the coordinates within a polygon\n",
    "    xcoord    : the name of the DataFrame column that contains the x coordinate\n",
    "    ycoord    : the name of the DataFrame column that contains the x coordinate\n",
    "    \n",
    "    example:\n",
    "    \n",
    "    to_shp(df, 'provincie.shp', column='prov_naam', xcoord='x', ycoord='y')\n",
    "    \"\"\"\n",
    "    \n",
    "    gdf = gpd.GeoDataFrame(columns=['name', 'geometry']) # empty GeoDataFrame\n",
    "    \n",
    "    for name in df[column].unique():\n",
    "        rows = df.loc[df[column] == name].sort_values(by=[part, order]) # select rows by area name and sort\n",
    "        parts = max(rows[part]) # number of polygons (parts) for selected area\n",
    "        if parts == 1: # generate polygon\n",
    "            polygon = Polygon(zip(rows[xcoord], rows[ycoord]))\n",
    "            gdf = gdf.append({'name': name, 'geometry': polygon}, ignore_index=True)\n",
    "        else: # generate multipolygon\n",
    "            polygon_list = list()\n",
    "            for num in range(1, parts+1):\n",
    "                polygon_rows = rows[rows[part] == num].sort_values(by=order)\n",
    "                polygon = Polygon(zip(polygon_rows[xcoord], polygon_rows[ycoord]))\n",
    "                polygon_list.append(polygon)\n",
    "            multipolygon = MultiPolygon(polygon_list)\n",
    "            #row = pd.DataFrame({'name': name, 'geometry': multipolygon})\n",
    "            gdf = gdf.append({'name': name, 'geometry': multipolygon}, ignore_index=True)\n",
    "            \n",
    "    gdf.reset_index(drop=True, inplace=True)\n",
    "    gdf.to_file(shapefile)\n",
    "    \n",
    "    print(f'{gdf.shape[0]} polygons saved to {shapefile}')"
   ]
  },
  {
   "cell_type": "markdown",
   "metadata": {},
   "source": [
    "# 3. From shapefile to csv"
   ]
  },
  {
   "cell_type": "markdown",
   "metadata": {},
   "source": [
    "### 3.1 Read shapefile"
   ]
  },
  {
   "cell_type": "code",
   "execution_count": 4,
   "metadata": {},
   "outputs": [],
   "source": [
    "shapefile = '../shapefiles/imergis/2018-Imergis_provinciegrenzen_kustlijn-shp/2018-Imergis_provinciegrenzen_kustlijn.shp'\n",
    "gdf = gpd.read_file(shapefile)"
   ]
  },
  {
   "cell_type": "markdown",
   "metadata": {},
   "source": [
    "### 3.2 Inspect shapefile"
   ]
  },
  {
   "cell_type": "code",
   "execution_count": 5,
   "metadata": {},
   "outputs": [
    {
     "name": "stdout",
     "output_type": "stream",
     "text": [
      "<class 'geopandas.geodataframe.GeoDataFrame'>\n",
      "RangeIndex: 12 entries, 0 to 11\n",
      "Data columns (total 3 columns):\n",
      "id            12 non-null int64\n",
      "provincien    12 non-null object\n",
      "geometry      12 non-null object\n",
      "dtypes: int64(1), object(2)\n",
      "memory usage: 1.4 KB\n"
     ]
    }
   ],
   "source": [
    "# Info\n",
    "gdf.info(memory_usage='deep')"
   ]
  },
  {
   "cell_type": "code",
   "execution_count": 6,
   "metadata": {},
   "outputs": [
    {
     "data": {
      "text/html": [
       "<div>\n",
       "<style scoped>\n",
       "    .dataframe tbody tr th:only-of-type {\n",
       "        vertical-align: middle;\n",
       "    }\n",
       "\n",
       "    .dataframe tbody tr th {\n",
       "        vertical-align: top;\n",
       "    }\n",
       "\n",
       "    .dataframe thead th {\n",
       "        text-align: right;\n",
       "    }\n",
       "</style>\n",
       "<table border=\"1\" class=\"dataframe\">\n",
       "  <thead>\n",
       "    <tr style=\"text-align: right;\">\n",
       "      <th></th>\n",
       "      <th>id</th>\n",
       "      <th>provincien</th>\n",
       "      <th>geometry</th>\n",
       "    </tr>\n",
       "  </thead>\n",
       "  <tbody>\n",
       "    <tr>\n",
       "      <th>5</th>\n",
       "      <td>6</td>\n",
       "      <td>Drenthe</td>\n",
       "      <td>POLYGON ((223906.541 555883.385, 223861.932 55...</td>\n",
       "    </tr>\n",
       "    <tr>\n",
       "      <th>3</th>\n",
       "      <td>4</td>\n",
       "      <td>Zeeland</td>\n",
       "      <td>(POLYGON ((48116.21645152492 419985.8556412539...</td>\n",
       "    </tr>\n",
       "    <tr>\n",
       "      <th>11</th>\n",
       "      <td>12</td>\n",
       "      <td>Noord-Brabant</td>\n",
       "      <td>(POLYGON ((122802.846 383738.555, 122804.31 38...</td>\n",
       "    </tr>\n",
       "  </tbody>\n",
       "</table>\n",
       "</div>"
      ],
      "text/plain": [
       "    id     provincien                                           geometry\n",
       "5    6        Drenthe  POLYGON ((223906.541 555883.385, 223861.932 55...\n",
       "3    4        Zeeland  (POLYGON ((48116.21645152492 419985.8556412539...\n",
       "11  12  Noord-Brabant  (POLYGON ((122802.846 383738.555, 122804.31 38..."
      ]
     },
     "execution_count": 6,
     "metadata": {},
     "output_type": "execute_result"
    }
   ],
   "source": [
    "# Sample\n",
    "gdf.sample(n=3)"
   ]
  },
  {
   "cell_type": "code",
   "execution_count": 7,
   "metadata": {},
   "outputs": [],
   "source": [
    "# Set column name contrain the area names\n",
    "column = 'provincien'"
   ]
  },
  {
   "cell_type": "code",
   "execution_count": 8,
   "metadata": {},
   "outputs": [
    {
     "name": "stdout",
     "output_type": "stream",
     "text": [
      "            name  polygons\n",
      "0      Flevoland        23\n",
      "1  Noord-Holland        12\n",
      "2      Friesland        11\n",
      "3        Zeeland        10\n",
      "8  Noord-Brabant         9\n",
      "4      Groningen         5\n",
      "5     Overijssel         4\n",
      "6   Zuid-Holland         3\n",
      "7     Gelderland         2\n",
      "\n"
     ]
    },
    {
     "data": {
      "image/png": "[encoded data removed]",
      "text/plain": [
       "<Figure size 432x288 with 1 Axes>"
      ]
     },
     "metadata": {
      "needs_background": "light"
     },
     "output_type": "display_data"
    }
   ],
   "source": [
    "# MultiPolygons\n",
    "df = pd.DataFrame()\n",
    "for row in gdf.iterrows():\n",
    "    value = row[1]\n",
    "    if isinstance(value.geometry, MultiPolygon):\n",
    "        df = df.append({'name': value[column], 'polygons': len(value.geometry)}, ignore_index=True)\n",
    "        df = pd.DataFrame({'name': df.name,\n",
    "                           'polygons': df.polygons.astype('int')\n",
    "                          }\n",
    "                         ).sort_values(by=['polygons', 'name'], ascending=[False, True])\n",
    "if df.shape[0] == 0:\n",
    "    print('No multipolygons found.')\n",
    "else:\n",
    "    print(df)\n",
    "    print()\n",
    "    f, ax = plt.subplots(1)\n",
    "    ax = gdf.loc[gdf[column] == df.iloc[0, 0]].plot(ax=ax)\n",
    "    ax.set_title(df.iloc[0, 0])\n",
    "    plt.axis('off')\n",
    "    plt.show()"
   ]
  },
  {
   "cell_type": "markdown",
   "metadata": {},
   "source": [
    "### 3.3 Save csv"
   ]
  },
  {
   "cell_type": "code",
   "execution_count": 9,
   "metadata": {},
   "outputs": [
    {
     "name": "stdout",
     "output_type": "stream",
     "text": [
      "146856 coordinates saved to file ../output/csv/provincie.csv\n"
     ]
    }
   ],
   "source": [
    "filename = '../output/csv/provincie.csv'\n",
    "to_csv(gdf, column, filename)"
   ]
  },
  {
   "cell_type": "markdown",
   "metadata": {},
   "source": [
    "# 4. From csv to shapefile"
   ]
  },
  {
   "cell_type": "markdown",
   "metadata": {},
   "source": [
    "## 4.1 Read csv"
   ]
  },
  {
   "cell_type": "code",
   "execution_count": 10,
   "metadata": {},
   "outputs": [],
   "source": [
    "df = pd.read_csv(filename)"
   ]
  },
  {
   "cell_type": "markdown",
   "metadata": {},
   "source": [
    "## 4.2 Inspect csv"
   ]
  },
  {
   "cell_type": "code",
   "execution_count": 11,
   "metadata": {},
   "outputs": [
    {
     "name": "stdout",
     "output_type": "stream",
     "text": [
      "<class 'pandas.core.frame.DataFrame'>\n",
      "RangeIndex: 146856 entries, 0 to 146855\n",
      "Data columns (total 5 columns):\n",
      "name      146856 non-null object\n",
      "part      146856 non-null int64\n",
      "order     146856 non-null int64\n",
      "xcoord    146856 non-null float64\n",
      "ycoord    146856 non-null float64\n",
      "dtypes: float64(2), int64(2), object(1)\n",
      "memory usage: 13.8 MB\n"
     ]
    }
   ],
   "source": [
    "# Info\n",
    "df.info(memory_usage='deep')"
   ]
  },
  {
   "cell_type": "code",
   "execution_count": 12,
   "metadata": {},
   "outputs": [
    {
     "data": {
      "text/html": [
       "<div>\n",
       "<style scoped>\n",
       "    .dataframe tbody tr th:only-of-type {\n",
       "        vertical-align: middle;\n",
       "    }\n",
       "\n",
       "    .dataframe tbody tr th {\n",
       "        vertical-align: top;\n",
       "    }\n",
       "\n",
       "    .dataframe thead th {\n",
       "        text-align: right;\n",
       "    }\n",
       "</style>\n",
       "<table border=\"1\" class=\"dataframe\">\n",
       "  <thead>\n",
       "    <tr style=\"text-align: right;\">\n",
       "      <th></th>\n",
       "      <th>name</th>\n",
       "      <th>part</th>\n",
       "      <th>order</th>\n",
       "      <th>xcoord</th>\n",
       "      <th>ycoord</th>\n",
       "    </tr>\n",
       "  </thead>\n",
       "  <tbody>\n",
       "    <tr>\n",
       "      <th>33069</th>\n",
       "      <td>Gelderland</td>\n",
       "      <td>1</td>\n",
       "      <td>8774</td>\n",
       "      <td>225125.776</td>\n",
       "      <td>473222.970</td>\n",
       "    </tr>\n",
       "    <tr>\n",
       "      <th>48109</th>\n",
       "      <td>Groningen</td>\n",
       "      <td>1</td>\n",
       "      <td>2489</td>\n",
       "      <td>251480.428</td>\n",
       "      <td>564982.721</td>\n",
       "    </tr>\n",
       "    <tr>\n",
       "      <th>115729</th>\n",
       "      <td>Utrecht</td>\n",
       "      <td>1</td>\n",
       "      <td>3882</td>\n",
       "      <td>127392.627</td>\n",
       "      <td>478023.275</td>\n",
       "    </tr>\n",
       "    <tr>\n",
       "      <th>63181</th>\n",
       "      <td>Limburg</td>\n",
       "      <td>1</td>\n",
       "      <td>7919</td>\n",
       "      <td>196529.160</td>\n",
       "      <td>312117.875</td>\n",
       "    </tr>\n",
       "    <tr>\n",
       "      <th>138863</th>\n",
       "      <td>Zuid-Holland</td>\n",
       "      <td>1</td>\n",
       "      <td>1027</td>\n",
       "      <td>103348.989</td>\n",
       "      <td>470033.326</td>\n",
       "    </tr>\n",
       "    <tr>\n",
       "      <th>122605</th>\n",
       "      <td>Utrecht</td>\n",
       "      <td>1</td>\n",
       "      <td>10758</td>\n",
       "      <td>160837.667</td>\n",
       "      <td>463836.712</td>\n",
       "    </tr>\n",
       "    <tr>\n",
       "      <th>102344</th>\n",
       "      <td>Overijssel</td>\n",
       "      <td>1</td>\n",
       "      <td>9279</td>\n",
       "      <td>228193.970</td>\n",
       "      <td>515762.630</td>\n",
       "    </tr>\n",
       "  </tbody>\n",
       "</table>\n",
       "</div>"
      ],
      "text/plain": [
       "                name  part  order      xcoord      ycoord\n",
       "33069     Gelderland     1   8774  225125.776  473222.970\n",
       "48109      Groningen     1   2489  251480.428  564982.721\n",
       "115729       Utrecht     1   3882  127392.627  478023.275\n",
       "63181        Limburg     1   7919  196529.160  312117.875\n",
       "138863  Zuid-Holland     1   1027  103348.989  470033.326\n",
       "122605       Utrecht     1  10758  160837.667  463836.712\n",
       "102344    Overijssel     1   9279  228193.970  515762.630"
      ]
     },
     "execution_count": 12,
     "metadata": {},
     "output_type": "execute_result"
    }
   ],
   "source": [
    "# Sample\n",
    "df.sample(n=7)"
   ]
  },
  {
   "cell_type": "code",
   "execution_count": 13,
   "metadata": {},
   "outputs": [
    {
     "data": {
      "text/html": [
       "<div>\n",
       "<style scoped>\n",
       "    .dataframe tbody tr th:only-of-type {\n",
       "        vertical-align: middle;\n",
       "    }\n",
       "\n",
       "    .dataframe tbody tr th {\n",
       "        vertical-align: top;\n",
       "    }\n",
       "\n",
       "    .dataframe thead th {\n",
       "        text-align: right;\n",
       "    }\n",
       "</style>\n",
       "<table border=\"1\" class=\"dataframe\">\n",
       "  <thead>\n",
       "    <tr style=\"text-align: right;\">\n",
       "      <th></th>\n",
       "      <th>name</th>\n",
       "      <th>part</th>\n",
       "    </tr>\n",
       "  </thead>\n",
       "  <tbody>\n",
       "    <tr>\n",
       "      <th>1</th>\n",
       "      <td>Flevoland</td>\n",
       "      <td>23</td>\n",
       "    </tr>\n",
       "    <tr>\n",
       "      <th>7</th>\n",
       "      <td>Noord-Holland</td>\n",
       "      <td>12</td>\n",
       "    </tr>\n",
       "    <tr>\n",
       "      <th>2</th>\n",
       "      <td>Friesland</td>\n",
       "      <td>11</td>\n",
       "    </tr>\n",
       "    <tr>\n",
       "      <th>10</th>\n",
       "      <td>Zeeland</td>\n",
       "      <td>10</td>\n",
       "    </tr>\n",
       "    <tr>\n",
       "      <th>6</th>\n",
       "      <td>Noord-Brabant</td>\n",
       "      <td>9</td>\n",
       "    </tr>\n",
       "    <tr>\n",
       "      <th>4</th>\n",
       "      <td>Groningen</td>\n",
       "      <td>5</td>\n",
       "    </tr>\n",
       "    <tr>\n",
       "      <th>8</th>\n",
       "      <td>Overijssel</td>\n",
       "      <td>4</td>\n",
       "    </tr>\n",
       "    <tr>\n",
       "      <th>11</th>\n",
       "      <td>Zuid-Holland</td>\n",
       "      <td>3</td>\n",
       "    </tr>\n",
       "    <tr>\n",
       "      <th>3</th>\n",
       "      <td>Gelderland</td>\n",
       "      <td>2</td>\n",
       "    </tr>\n",
       "  </tbody>\n",
       "</table>\n",
       "</div>"
      ],
      "text/plain": [
       "             name  part\n",
       "1       Flevoland    23\n",
       "7   Noord-Holland    12\n",
       "2       Friesland    11\n",
       "10        Zeeland    10\n",
       "6   Noord-Brabant     9\n",
       "4       Groningen     5\n",
       "8      Overijssel     4\n",
       "11   Zuid-Holland     3\n",
       "3      Gelderland     2"
      ]
     },
     "execution_count": 13,
     "metadata": {},
     "output_type": "execute_result"
    }
   ],
   "source": [
    "# MultiPolygons\n",
    "df[['name',\n",
    "    'part']].groupby(by='name').part.max().to_frame().reset_index().query('part > 1').sort_values(by=['part',\n",
    "                                                                                                      'name'],ascending=[False,\n",
    "                                                                                                                         True])"
   ]
  },
  {
   "cell_type": "markdown",
   "metadata": {},
   "source": [
    "### 4.3 Save shapefile"
   ]
  },
  {
   "cell_type": "code",
   "execution_count": 14,
   "metadata": {},
   "outputs": [
    {
     "name": "stdout",
     "output_type": "stream",
     "text": [
      "12 polygons saved to ../output/shapefile/provincie.shp\n"
     ]
    }
   ],
   "source": [
    "filename = '../output/shapefile/provincie.shp'\n",
    "to_shp(df, filename)"
   ]
  },
  {
   "cell_type": "markdown",
   "metadata": {},
   "source": [
    "# 5. Test shapefile"
   ]
  },
  {
   "cell_type": "code",
   "execution_count": 15,
   "metadata": {},
   "outputs": [],
   "source": [
    "# Read shapefile\n",
    "test = gpd.read_file(filename)"
   ]
  },
  {
   "cell_type": "code",
   "execution_count": 16,
   "metadata": {},
   "outputs": [
    {
     "data": {
      "image/png": "[encoded data removed]",
      "text/plain": [
       "<Figure size 540x648 with 1 Axes>"
      ]
     },
     "metadata": {
      "needs_background": "light"
     },
     "output_type": "display_data"
    }
   ],
   "source": [
    "# Plot shapefile\n",
    "f, ax = plt.subplots(1, figsize=(7.5, 9))\n",
    "ax = test.plot(ax=ax)\n",
    "ax.set_title(filename)\n",
    "plt.axis('off')\n",
    "plt.show()"
   ]
  },
  {
   "cell_type": "code",
   "execution_count": null,
   "metadata": {},
   "outputs": [],
   "source": []
  }
 ],
 "metadata": {
  "kernelspec": {
   "display_name": "Python 3",
   "language": "python",
   "name": "python3"
  },
  "language_info": {
   "codemirror_mode": {
    "name": "ipython",
    "version": 3
   },
   "file_extension": ".py",
   "mimetype": "text/x-python",
   "name": "python",
   "nbconvert_exporter": "python",
   "pygments_lexer": "ipython3",
   "version": "3.6.6"
  }
 },
 "nbformat": 4,
 "nbformat_minor": 2
}
