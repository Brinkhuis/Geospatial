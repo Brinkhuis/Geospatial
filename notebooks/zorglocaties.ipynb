{
 "cells": [
  {
   "cell_type": "markdown",
   "metadata": {},
   "source": [
    "# Zorglocaties"
   ]
  },
  {
   "cell_type": "code",
   "execution_count": 1,
   "metadata": {},
   "outputs": [
    {
     "name": "stdout",
     "output_type": "stream",
     "text": [
      "python     3.6.6\n",
      "numpy      1.15.4\n",
      "pandas     0.23.4\n",
      "geopandas  0.4.0\n",
      "matplotlib 2.2.2\n",
      "shapely    1.6.4.post2\n",
      "folium     0.7.0\n",
      "ipywidgets 7.4.2\n"
     ]
    }
   ],
   "source": [
    "# import modules and version info\n",
    "import sys\n",
    "print(f'python     {sys.version_info.major}.{sys.version_info.minor}.{sys.version_info.micro}')\n",
    "\n",
    "import numpy as np\n",
    "print(f'numpy      {np.__version__}')\n",
    "\n",
    "import pandas as pd\n",
    "print(f'pandas     {pd.__version__}')\n",
    "\n",
    "import geopandas as gpd\n",
    "print(f'geopandas  {gpd.__version__}')\n",
    "\n",
    "import matplotlib.pyplot as plt\n",
    "print(f'matplotlib {sys.modules[\"matplotlib\"].__version__}')\n",
    "\n",
    "from shapely.geometry import Point\n",
    "print(f'shapely    {sys.modules[\"shapely\"].__version__}')\n",
    "\n",
    "import folium # conda install -c conda-forge folium\n",
    "from folium.plugins import MarkerCluster\n",
    "print(f'folium     {folium.__version__}')\n",
    "\n",
    "import ipywidgets\n",
    "print(f'ipywidgets {ipywidgets.__version__}')"
   ]
  },
  {
   "cell_type": "markdown",
   "metadata": {},
   "source": [
    "### Lees data"
   ]
  },
  {
   "cell_type": "code",
   "execution_count": 2,
   "metadata": {},
   "outputs": [],
   "source": [
    "# gemeentegrenzen\n",
    "gg = gpd.read_file('../shapefiles/imergis/2018-Imergis_gemeentegrenzen_kustlijn-shp/2018-Imergis_gemeentegrenzen_kustlijn.shp')"
   ]
  },
  {
   "cell_type": "code",
   "execution_count": 3,
   "metadata": {},
   "outputs": [
    {
     "data": {
      "text/html": [
       "<div>\n",
       "<style scoped>\n",
       "    .dataframe tbody tr th:only-of-type {\n",
       "        vertical-align: middle;\n",
       "    }\n",
       "\n",
       "    .dataframe tbody tr th {\n",
       "        vertical-align: top;\n",
       "    }\n",
       "\n",
       "    .dataframe thead th {\n",
       "        text-align: right;\n",
       "    }\n",
       "</style>\n",
       "<table border=\"1\" class=\"dataframe\">\n",
       "  <thead>\n",
       "    <tr style=\"text-align: right;\">\n",
       "      <th></th>\n",
       "      <th>postcode</th>\n",
       "      <th>sector</th>\n",
       "    </tr>\n",
       "  </thead>\n",
       "  <tbody>\n",
       "    <tr>\n",
       "      <th>11103</th>\n",
       "      <td>1314SZ</td>\n",
       "      <td>Instelling voor verstandelijk gehandicapten</td>\n",
       "    </tr>\n",
       "    <tr>\n",
       "      <th>2242</th>\n",
       "      <td>2201KS</td>\n",
       "      <td>Verpleeghuis en verzorgingshuis</td>\n",
       "    </tr>\n",
       "    <tr>\n",
       "      <th>398</th>\n",
       "      <td>5232AC</td>\n",
       "      <td>Centrum voor eetstoornissen</td>\n",
       "    </tr>\n",
       "    <tr>\n",
       "      <th>18079</th>\n",
       "      <td>6566EH</td>\n",
       "      <td>Huisartsenpraktijk</td>\n",
       "    </tr>\n",
       "    <tr>\n",
       "      <th>38433</th>\n",
       "      <td>7906PC</td>\n",
       "      <td>Woonvoorziening voor verstandelijk gehandicapten</td>\n",
       "    </tr>\n",
       "    <tr>\n",
       "      <th>25801</th>\n",
       "      <td>6843WS</td>\n",
       "      <td>Diëtistenpraktijk</td>\n",
       "    </tr>\n",
       "    <tr>\n",
       "      <th>29598</th>\n",
       "      <td>5421AG</td>\n",
       "      <td>Fysiotherapiepraktijk</td>\n",
       "    </tr>\n",
       "  </tbody>\n",
       "</table>\n",
       "</div>"
      ],
      "text/plain": [
       "      postcode                                            sector\n",
       "11103   1314SZ       Instelling voor verstandelijk gehandicapten\n",
       "2242    2201KS                   Verpleeghuis en verzorgingshuis\n",
       "398     5232AC                       Centrum voor eetstoornissen\n",
       "18079   6566EH                                Huisartsenpraktijk\n",
       "38433   7906PC  Woonvoorziening voor verstandelijk gehandicapten\n",
       "25801   6843WS                                 Diëtistenpraktijk\n",
       "29598   5421AG                             Fysiotherapiepraktijk"
      ]
     },
     "execution_count": 3,
     "metadata": {},
     "output_type": "execute_result"
    }
   ],
   "source": [
    "# zorglocaties\n",
    "locatie = pd.read_csv('../data/zorglocaties.csv', usecols=['postcode', 'sector']).dropna()\n",
    "locatie['postcode'] = locatie.postcode.apply(lambda x: x.replace(' ', '').upper())\n",
    "locatie.sample(n=7)"
   ]
  },
  {
   "cell_type": "code",
   "execution_count": 4,
   "metadata": {},
   "outputs": [
    {
     "data": {
      "text/html": [
       "<div>\n",
       "<style scoped>\n",
       "    .dataframe tbody tr th:only-of-type {\n",
       "        vertical-align: middle;\n",
       "    }\n",
       "\n",
       "    .dataframe tbody tr th {\n",
       "        vertical-align: top;\n",
       "    }\n",
       "\n",
       "    .dataframe thead th {\n",
       "        text-align: right;\n",
       "    }\n",
       "</style>\n",
       "<table border=\"1\" class=\"dataframe\">\n",
       "  <thead>\n",
       "    <tr style=\"text-align: right;\">\n",
       "      <th></th>\n",
       "      <th>postcode</th>\n",
       "      <th>rdx</th>\n",
       "      <th>rdy</th>\n",
       "    </tr>\n",
       "  </thead>\n",
       "  <tbody>\n",
       "    <tr>\n",
       "      <th>393254</th>\n",
       "      <td>3581HC</td>\n",
       "      <td>138005.677000</td>\n",
       "      <td>456162.736250</td>\n",
       "    </tr>\n",
       "    <tr>\n",
       "      <th>196566</th>\n",
       "      <td>3871RR</td>\n",
       "      <td>160200.846154</td>\n",
       "      <td>465594.692308</td>\n",
       "    </tr>\n",
       "    <tr>\n",
       "      <th>328988</th>\n",
       "      <td>3086SG</td>\n",
       "      <td>91183.573050</td>\n",
       "      <td>432016.017250</td>\n",
       "    </tr>\n",
       "    <tr>\n",
       "      <th>56105</th>\n",
       "      <td>2991CV</td>\n",
       "      <td>96530.844667</td>\n",
       "      <td>429942.057444</td>\n",
       "    </tr>\n",
       "    <tr>\n",
       "      <th>386439</th>\n",
       "      <td>8322AJ</td>\n",
       "      <td>171161.454000</td>\n",
       "      <td>519811.729667</td>\n",
       "    </tr>\n",
       "    <tr>\n",
       "      <th>372022</th>\n",
       "      <td>8255CJ</td>\n",
       "      <td>172275.688171</td>\n",
       "      <td>508972.819029</td>\n",
       "    </tr>\n",
       "    <tr>\n",
       "      <th>253232</th>\n",
       "      <td>5366AR</td>\n",
       "      <td>167139.253018</td>\n",
       "      <td>425976.260579</td>\n",
       "    </tr>\n",
       "  </tbody>\n",
       "</table>\n",
       "</div>"
      ],
      "text/plain": [
       "       postcode            rdx            rdy\n",
       "393254   3581HC  138005.677000  456162.736250\n",
       "196566   3871RR  160200.846154  465594.692308\n",
       "328988   3086SG   91183.573050  432016.017250\n",
       "56105    2991CV   96530.844667  429942.057444\n",
       "386439   8322AJ  171161.454000  519811.729667\n",
       "372022   8255CJ  172275.688171  508972.819029\n",
       "253232   5366AR  167139.253018  425976.260579"
      ]
     },
     "execution_count": 4,
     "metadata": {},
     "output_type": "execute_result"
    }
   ],
   "source": [
    "# postcode\n",
    "pc6 = pd.read_csv('../shapefiles/bag/Postcodes-plaatsen-overheid-nuts-2018/woonplaatsen_pc6.csv', \n",
    "                  usecols=['pc6', 'rdx', 'rdy'], sep=';')\n",
    "pc6.columns = ['postcode', 'rdx', 'rdy']\n",
    "pc6.sample(n=7)"
   ]
  },
  {
   "cell_type": "markdown",
   "metadata": {},
   "source": [
    "### Samenvoegen data"
   ]
  },
  {
   "cell_type": "code",
   "execution_count": 5,
   "metadata": {},
   "outputs": [
    {
     "data": {
      "text/html": [
       "<div>\n",
       "<style scoped>\n",
       "    .dataframe tbody tr th:only-of-type {\n",
       "        vertical-align: middle;\n",
       "    }\n",
       "\n",
       "    .dataframe tbody tr th {\n",
       "        vertical-align: top;\n",
       "    }\n",
       "\n",
       "    .dataframe thead th {\n",
       "        text-align: right;\n",
       "    }\n",
       "</style>\n",
       "<table border=\"1\" class=\"dataframe\">\n",
       "  <thead>\n",
       "    <tr style=\"text-align: right;\">\n",
       "      <th></th>\n",
       "      <th>postcode</th>\n",
       "      <th>sector</th>\n",
       "      <th>rdx</th>\n",
       "      <th>rdy</th>\n",
       "    </tr>\n",
       "  </thead>\n",
       "  <tbody>\n",
       "    <tr>\n",
       "      <th>4578</th>\n",
       "      <td>6222VE</td>\n",
       "      <td>Apotheek</td>\n",
       "      <td>178044.067867</td>\n",
       "      <td>319368.281067</td>\n",
       "    </tr>\n",
       "    <tr>\n",
       "      <th>6993</th>\n",
       "      <td>7812AM</td>\n",
       "      <td>GGZ</td>\n",
       "      <td>256426.449000</td>\n",
       "      <td>533150.455187</td>\n",
       "    </tr>\n",
       "    <tr>\n",
       "      <th>26375</th>\n",
       "      <td>5521WD</td>\n",
       "      <td>Diëtistenpraktijk</td>\n",
       "      <td>150613.851813</td>\n",
       "      <td>373977.523453</td>\n",
       "    </tr>\n",
       "    <tr>\n",
       "      <th>30888</th>\n",
       "      <td>8261JX</td>\n",
       "      <td>Particulier woonzorgcentrum</td>\n",
       "      <td>191198.508870</td>\n",
       "      <td>507624.997278</td>\n",
       "    </tr>\n",
       "    <tr>\n",
       "      <th>31282</th>\n",
       "      <td>5051NX</td>\n",
       "      <td>Huidtherapiepraktijk</td>\n",
       "      <td>131401.824000</td>\n",
       "      <td>391724.726500</td>\n",
       "    </tr>\n",
       "    <tr>\n",
       "      <th>19023</th>\n",
       "      <td>3341XD</td>\n",
       "      <td>Tandartsenpraktijk</td>\n",
       "      <td>104008.527838</td>\n",
       "      <td>429398.212868</td>\n",
       "    </tr>\n",
       "    <tr>\n",
       "      <th>45335</th>\n",
       "      <td>6971EJ</td>\n",
       "      <td>Tandartsenpraktijk</td>\n",
       "      <td>207484.783609</td>\n",
       "      <td>456899.828348</td>\n",
       "    </tr>\n",
       "  </tbody>\n",
       "</table>\n",
       "</div>"
      ],
      "text/plain": [
       "      postcode                       sector            rdx            rdy\n",
       "4578    6222VE                     Apotheek  178044.067867  319368.281067\n",
       "6993    7812AM                          GGZ  256426.449000  533150.455187\n",
       "26375   5521WD            Diëtistenpraktijk  150613.851813  373977.523453\n",
       "30888   8261JX  Particulier woonzorgcentrum  191198.508870  507624.997278\n",
       "31282   5051NX         Huidtherapiepraktijk  131401.824000  391724.726500\n",
       "19023   3341XD           Tandartsenpraktijk  104008.527838  429398.212868\n",
       "45335   6971EJ           Tandartsenpraktijk  207484.783609  456899.828348"
      ]
     },
     "execution_count": 5,
     "metadata": {},
     "output_type": "execute_result"
    }
   ],
   "source": [
    "# merge data\n",
    "df = pd.merge(locatie, pc6, how='left', on='postcode').dropna()\n",
    "df.sample(n=7)"
   ]
  },
  {
   "cell_type": "markdown",
   "metadata": {},
   "source": [
    "### Top 20"
   ]
  },
  {
   "cell_type": "code",
   "execution_count": 6,
   "metadata": {},
   "outputs": [
    {
     "data": {
      "text/plain": [
       "Fysiotherapiepraktijk                               7670\n",
       "Huisartsenpraktijk                                  4691\n",
       "Tandartsenpraktijk                                  4638\n",
       "Thuiszorg                                           3491\n",
       "Diëtistenpraktijk                                   2572\n",
       "Psychologiepraktijk en psychotherapiepraktijk       2414\n",
       "Verpleeghuis en verzorgingshuis                     2170\n",
       "Apotheek                                            1894\n",
       "Woonvoorziening voor verstandelijk gehandicapten    1893\n",
       "Logopediepraktijk                                   1893\n",
       "GGZ                                                 1557\n",
       "Organisatie                                         1261\n",
       "Oefentherapiepraktijk                               1241\n",
       "Podotherapiepraktijk                                1157\n",
       "Verloskundepraktijk                                  718\n",
       "Huidtherapiepraktijk                                 656\n",
       "Mondhygiënistenpraktijk                              601\n",
       "Arbo- en reïntegratiebedrijf                         494\n",
       "Artsenpraktijk voor alternatieve geneeskunde         422\n",
       "Psychiatriepraktijk                                  401\n",
       "Name: sector, dtype: int64"
      ]
     },
     "execution_count": 6,
     "metadata": {},
     "output_type": "execute_result"
    }
   ],
   "source": [
    "# aantal zorglocaties per sector (top 20)\n",
    "df.sector.value_counts()[:20]"
   ]
  },
  {
   "cell_type": "raw",
   "metadata": {},
   "source": [
    "### Zorgkaart"
   ]
  },
  {
   "cell_type": "code",
   "execution_count": 7,
   "metadata": {},
   "outputs": [
    {
     "data": {
      "application/vnd.jupyter.widget-view+json": {
       "model_id": "3c7feb2ae8cc428aa53875f89d2fdb4c",
       "version_major": 2,
       "version_minor": 0
      },
      "text/plain": [
       "interactive(children=(Dropdown(description='Zorgsector', index=76, options=('Abortuskliniek', 'Apotheek', 'Arb…"
      ]
     },
     "metadata": {},
     "output_type": "display_data"
    },
    {
     "data": {
      "text/plain": [
       "<function __main__.zorgkaart(sector)>"
      ]
     },
     "execution_count": 7,
     "metadata": {},
     "output_type": "execute_result"
    }
   ],
   "source": [
    "def zorgkaart(sector):\n",
    "    selectie = df[df.sector == sector]\n",
    "    gg.plot(figsize=(10, 12), color='lightgrey', edgecolor='white', linewidth=0.2)\n",
    "    plt.title('{} ($n$={})'.format(sector, selectie.shape[0]), fontsize=16, color='#323232')\n",
    "    plt.scatter(selectie.rdx, selectie.rdy, color='royalblue', alpha=0.7)\n",
    "    plt.axis('off')\n",
    "    return plt.show()\n",
    "\n",
    "ipywidgets.interact(zorgkaart,\n",
    "                    sector = ipywidgets.Dropdown(options=np.sort(df.sector.unique()),\n",
    "                                                 value='Ziekenhuis',\n",
    "                                                 description='Zorgsector')\n",
    "                   )"
   ]
  },
  {
   "cell_type": "code",
   "execution_count": null,
   "metadata": {},
   "outputs": [],
   "source": []
  }
 ],
 "metadata": {
  "kernelspec": {
   "display_name": "Python 3",
   "language": "python",
   "name": "python3"
  },
  "language_info": {
   "codemirror_mode": {
    "name": "ipython",
    "version": 3
   },
   "file_extension": ".py",
   "mimetype": "text/x-python",
   "name": "python",
   "nbconvert_exporter": "python",
   "pygments_lexer": "ipython3",
   "version": "3.6.6"
  }
 },
 "nbformat": 4,
 "nbformat_minor": 2
}
